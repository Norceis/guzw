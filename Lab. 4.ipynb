{
 "cells": [
  {
   "cell_type": "markdown",
   "metadata": {},
   "source": [
    "# Laboratorium 4 (4 pkt.)\n",
    "\n",
    "Celem czwartego laboratorium jest zapoznanie się oraz zaimplementowanie algorytmów głębokiego uczenia aktywnego. Zaimplementowane algorytmy będą testowane z wykorzystaniem wcześniej przygotowanych środowisk: *FrozenLake* i *Pacman* oraz środowiska z OpenAI - *CartPole*.\n"
   ]
  },
  {
   "cell_type": "markdown",
   "metadata": {},
   "source": [
    "Dołączenie standardowych bibliotek"
   ]
  },
  {
   "cell_type": "code",
   "execution_count": 1,
   "metadata": {},
   "outputs": [],
   "source": [
    "from collections import deque\n",
    "import gym\n",
    "import numpy as np\n",
    "from tqdm import tqdm"
   ]
  },
  {
   "cell_type": "markdown",
   "metadata": {},
   "source": [
    "Dołączenie bibliotek ze środowiskami:"
   ]
  },
  {
   "cell_type": "code",
   "execution_count": 2,
   "metadata": {},
   "outputs": [],
   "source": [
    "from env.FrozenLakeMDP import frozenLake\n",
    "from env.FrozenLakeMDPExtended import frozenLake as frozenLakeExtended"
   ]
  },
  {
   "cell_type": "markdown",
   "metadata": {},
   "source": [
    "Dołączenie bibliotek do obsługi sieci neuronowych"
   ]
  },
  {
   "cell_type": "code",
   "execution_count": 3,
   "metadata": {},
   "outputs": [],
   "source": [
    "import tensorflow as tf"
   ]
  },
  {
   "cell_type": "markdown",
   "metadata": {},
   "source": [
    "## Zadanie 1 - Deep Q-Network\n",
    "\n",
    "<p style='text-align: justify;'>\n",
    "Celem ćwiczenie jest zaimplementowanie algorytmu Deep Q-Network. Wartoscią oczekiwaną sieci jest:\n",
    "\\begin{equation}\n",
    "        Q(s_t, a_t) = r_{t+1} + \\gamma \\text{max}_a Q(s_{t + 1}, a)\n",
    "\\end{equation}\n",
    "</p>"
   ]
  },
  {
   "cell_type": "code",
   "execution_count": 4,
   "metadata": {},
   "outputs": [],
   "source": [
    "# class DQNAgent:\n",
    "#     def __init__(self, action_size, learning_rate, model):\n",
    "#         self.action_size = action_size\n",
    "#         self.memory = deque(maxlen=2000)\n",
    "#         self.gamma = 0.95    # discount rate\n",
    "#         self.epsilon = 1.0  # exploration rate\n",
    "#         self.epsilon_min = 0.01\n",
    "#         self.epsilon_decay_diff = 0.04\n",
    "#         # self.epsilon_decay_dot = 0.999\n",
    "#         self.learning_rate = learning_rate\n",
    "#         self.model = model\n",
    "#\n",
    "#     def remember(self, state, action, reward, next_state, done):\n",
    "#         #Function adds information to the memory about last action and its results\n",
    "#         self.memory.append((state, action, reward, next_state, done))\n",
    "#\n",
    "#     def get_action(self, state):\n",
    "#         \"\"\"\n",
    "#         Compute the action to take in the current state, including exploration.\n",
    "#         With probability self.epsilon, we should take a random action.\n",
    "#             otherwise - the best policy action (self.get_best_action).\n",
    "#\n",
    "#         Note: To pick randomly from a list, use random.choice(list).\n",
    "#               To pick True or False with a given probablity, generate uniform number in [0, 1]\n",
    "#               and compare it with your probability\n",
    "#         \"\"\"\n",
    "#\n",
    "#         if np.random.random() < self.epsilon:\n",
    "#             return np.random.choice(action_size)\n",
    "#\n",
    "#         return self.get_best_action(state)\n",
    "#\n",
    "#     def get_best_action(self, state):\n",
    "#         \"\"\"\n",
    "#         Compute the best action to take in a state.\n",
    "#         \"\"\"\n",
    "#\n",
    "#         prediction = self.model(state, training=False)\n",
    "#         best_action = tf.argmax(prediction[0]).numpy()\n",
    "#\n",
    "#         return best_action\n",
    "#\n",
    "#     def replay(self, batch_size):\n",
    "#         \"\"\"\n",
    "#         Function learn network using randomly selected actions from the memory.\n",
    "#         First calculates Q value for the next state and choose action with the biggest value.\n",
    "#         Target value is calculated according to:\n",
    "#                 Q(s,a) := (r + gamma * max_a(Q(s', a)))\n",
    "#         except the situation when the next action is the last action, in such case Q(s, a) := r.\n",
    "#         In order to change only those weights responsible for chosing given action, the rest values should be those\n",
    "#         returned by the network for state state.\n",
    "#         The network should be trained on batch_size samples.\n",
    "#         \"\"\"\n",
    "#\n",
    "#         sample_idx = np.random.choice(len(self.memory), size=batch_size, replace=False)\n",
    "#         batch_list = [self.memory[idx] for idx in sample_idx]\n",
    "#\n",
    "#         for sample in batch_list:\n",
    "#             state, action, reward, next_state, done = sample\n",
    "#\n",
    "#             if done:\n",
    "#                 target = reward\n",
    "#             else:\n",
    "#                 target = reward + self.gamma * np.amax(self.model(next_state, training=False).numpy())\n",
    "#\n",
    "#             prediction = self.model(state, training=False).numpy()\n",
    "#             prediction[0][action] = target\n",
    "#             self.model(state, prediction)\n",
    "#\n",
    "#     def update_epsilon_value(self):\n",
    "#         if self.epsilon > self.epsilon_decay_diff:\n",
    "#             self.epsilon -= self.epsilon_decay_diff\n",
    "#         else:\n",
    "#             self.epsilon = 0.001"
   ]
  },
  {
   "cell_type": "markdown",
   "metadata": {},
   "source": [
    "Czas przygotować model sieci, która będzie się uczyła poruszania po środowisku *FrozenLake*, warstwa wejściowa powinna mieć tyle neuronów ile jest możlliwych stanów, warstwa wyjściowa tyle neuronów ile jest możliwych akcji do wykonania:"
   ]
  },
  {
   "cell_type": "code",
   "execution_count": 5,
   "metadata": {},
   "outputs": [],
   "source": [
    "# env = frozenLake(\"8x8\")\n",
    "#\n",
    "# state_size = env.get_number_of_states()\n",
    "# action_size = len(env.get_possible_actions(None))\n",
    "# learning_rate = 0.00025\n",
    "#\n",
    "# model = tf.keras.Sequential()\n",
    "# model.add(tf.keras.layers.Dense(128, input_shape=(state_size,), activation='relu'))\n",
    "# model.add(tf.keras.layers.Dense(128, activation='relu'))\n",
    "# model.add(tf.keras.layers.Dense(64, activation='relu'))\n",
    "# model.add(tf.keras.layers.Dense(action_size, activation='linear'))\n",
    "# model.compile(loss=tf.keras.losses.mse, optimizer=tf.keras.optimizers.RMSprop(learning_rate=learning_rate), metrics=['accuracy'])#, run_eagerly=True)\n",
    "# model.summary()"
   ]
  },
  {
   "cell_type": "markdown",
   "metadata": {},
   "source": [
    " Czas nauczyć agenta poruszania się po środowisku *FrozenLake*, jako stan przyjmij wektor o liczbie elementów równej liczbie możliwych stanów, z wartością 1 ustawioną w komórce o indeksie równym aktualnemu stanowi, pozostałe elementy mają być wypełnione zerami:\n",
    "* 1 pkt < 35 epok,\n",
    "* 0.5 pkt < 60 epok,\n",
    "* 0.25 pkt - w pozostałych przypadkach."
   ]
  },
  {
   "cell_type": "code",
   "execution_count": 6,
   "metadata": {},
   "outputs": [],
   "source": [
    "# agent = DQNAgent(action_size, learning_rate, model)\n",
    "#\n",
    "# agent.epsilon = 0.75\n",
    "# batch_size = 128\n",
    "# EPISODES = 100\n",
    "# for e in range(EPISODES):\n",
    "#     summary = []\n",
    "#     pbar = tqdm(range(100))\n",
    "#     for _ in pbar:\n",
    "#         total_reward = 0\n",
    "#         env_state = env.reset()\n",
    "#\n",
    "#         state = np.zeros((1, env.get_number_of_states()))\n",
    "#         state[0, env._current_state] = 1\n",
    "#         state = tf.convert_to_tensor(state, dtype=tf.float32)\n",
    "#\n",
    "#         while True:\n",
    "#             action = agent.get_action(state)\n",
    "#             next_state_env, reward, done, _ = env.step(action)\n",
    "#             total_reward += reward\n",
    "#             next_state = np.zeros((1, env.get_number_of_states()))\n",
    "#             next_state[0, env._current_state] = 1\n",
    "#             next_state = tf.convert_to_tensor(next_state, dtype=tf.float32)\n",
    "#\n",
    "#             agent.remember(state, action, reward, next_state, done)\n",
    "#             state = next_state\n",
    "#             if done:\n",
    "#                 break\n",
    "#\n",
    "#         if len(agent.memory) > batch_size:\n",
    "#             agent.replay(batch_size)\n",
    "#\n",
    "#         summary.append(total_reward)\n",
    "#         pbar.set_description(f'training epoch')\n",
    "#\n",
    "#     agent.update_epsilon_value()\n",
    "#     print(\"epoch #{}\\tmean reward = {:.3f}\\tepsilon = {:.3f}\".format(e, np.mean(summary), agent.epsilon))\n",
    "#     agent.model.save_weights('test')\n",
    "#     if np.mean(summary) > 0.9:\n",
    "#         print (\"You Win!\")\n",
    "#         break"
   ]
  },
  {
   "cell_type": "markdown",
   "metadata": {},
   "source": [
    "Czas przygotować model sieci, która będzie się uczyła poruszania po środowisku *FrozenLakeExtended*, tym razem stan nie jest określany poprzez pojedynczą liczbę, a przez 3 tablice:\n",
    "* pierwsza zawierająca informacje o celu,\n",
    "* druga zawierająca informacje o dziurach,\n",
    "* trzecia zawierająca informację o położeniu gracza."
   ]
  },
  {
   "cell_type": "code",
   "execution_count": 7,
   "metadata": {},
   "outputs": [],
   "source": [
    "# env = frozenLakeExtended(\"4x4\")\n",
    "#\n",
    "# state_size = env.get_number_of_states()\n",
    "# action_size = len(env.get_possible_actions(None))\n",
    "# learning_rate = 0.00025\n",
    "#\n",
    "# model = tf.keras.Sequential()\n",
    "# model.add(tf.keras.layers.Dense(32, input_shape=(3, state_size), activation='elu'))\n",
    "# model.add(tf.keras.layers.Flatten())\n",
    "# model.add(tf.keras.layers.Dense(64, activation='elu'))\n",
    "# model.add(tf.keras.layers.Dense(32, activation='elu'))\n",
    "# model.add(tf.keras.layers.Dense(action_size, activation='linear'))\n",
    "# model.compile(loss=tf.keras.losses.mse, optimizer=tf.keras.optimizers.RMSprop(learning_rate=learning_rate), metrics=['accuracy'])#, run_eagerly=True)\n",
    "# model.summary()"
   ]
  },
  {
   "cell_type": "markdown",
   "metadata": {},
   "source": [
    " Czas nauczyć agenta poruszania się po środowisku *FrozenLakeExtended*, jako stan przyjmij wektor składający się ze wszystkich trzech tablic (2 pkt.):"
   ]
  },
  {
   "cell_type": "code",
   "execution_count": 8,
   "outputs": [],
   "source": [
    "# class DQNAgent:\n",
    "#     def __init__(self, action_size, learning_rate, model):\n",
    "#         self.action_size = action_size\n",
    "#         self.memory = deque(maxlen=2000)\n",
    "#         self.gamma = 0.95    # discount rate\n",
    "#         self.epsilon = 1.0  # exploration rate\n",
    "#         self.epsilon_min = 0.01\n",
    "#         self.epsilon_decay_diff = 0.03\n",
    "#         # self.epsilon_decay_dot = 0.999\n",
    "#         self.learning_rate = learning_rate\n",
    "#         self.model = model\n",
    "#\n",
    "#     def remember(self, state, action, reward, next_state, done):\n",
    "#         #Function adds information to the memory about last action and its results\n",
    "#         self.memory.append((state, action, reward, next_state, done))\n",
    "#\n",
    "#     def get_action(self, state):\n",
    "#         \"\"\"\n",
    "#         Compute the action to take in the current state, including exploration.\n",
    "#         With probability self.epsilon, we should take a random action.\n",
    "#             otherwise - the best policy action (self.get_best_action).\n",
    "#\n",
    "#         Note: To pick randomly from a list, use random.choice(list).\n",
    "#               To pick True or False with a given probablity, generate uniform number in [0, 1]\n",
    "#               and compare it with your probability\n",
    "#         \"\"\"\n",
    "#\n",
    "#         if np.random.random() < self.epsilon:\n",
    "#             return np.random.choice(action_size)\n",
    "#\n",
    "#         return self.get_best_action(state)\n",
    "#\n",
    "#     def get_best_action(self, state):\n",
    "#         \"\"\"\n",
    "#         Compute the best action to take in a state.\n",
    "#         \"\"\"\n",
    "#\n",
    "#         prediction = self.model(state, training=False)\n",
    "#         best_action = tf.argmax(prediction[0]).numpy()\n",
    "#         return best_action\n",
    "#\n",
    "#     def replay(self, batch_size):\n",
    "#         \"\"\"\n",
    "#         Function learn network using randomly selected actions from the memory.\n",
    "#         First calculates Q value for the next state and choose action with the biggest value.\n",
    "#         Target value is calculated according to:\n",
    "#                 Q(s,a) := (r + gamma * max_a(Q(s', a)))\n",
    "#         except the situation when the next action is the last action, in such case Q(s, a) := r.\n",
    "#         In order to change only those weights responsible for chosing given action, the rest values should be those\n",
    "#         returned by the network for state state.\n",
    "#         The network should be trained on batch_size samples.\n",
    "#         \"\"\"\n",
    "#\n",
    "#         sample_idx = np.random.choice(len(self.memory), size=batch_size, replace=False)\n",
    "#         batch_list = [self.memory[idx] for idx in sample_idx]\n",
    "#\n",
    "#         for sample in batch_list:\n",
    "#             state, action, reward, next_state, done = sample\n",
    "#\n",
    "#             if done:\n",
    "#                 target = reward\n",
    "#             else:\n",
    "#                 target = reward + self.gamma * np.amax(self.model(next_state, training=False).numpy())\n",
    "#\n",
    "#             prediction = self.model(state, training=False).numpy()\n",
    "#             prediction[0][action] = target\n",
    "#             self.model(state, prediction)\n",
    "#\n",
    "#     def update_epsilon_value(self):\n",
    "#         if self.epsilon > self.epsilon_decay_diff:\n",
    "#             self.epsilon -= self.epsilon_decay_diff\n",
    "#         else:\n",
    "#             self.epsilon = 0.001"
   ],
   "metadata": {
    "collapsed": false
   }
  },
  {
   "cell_type": "code",
   "execution_count": 9,
   "metadata": {},
   "outputs": [],
   "source": [
    "# agent = DQNAgent(action_size, learning_rate, model)\n",
    "#\n",
    "# agent.epsilon = 0.75\n",
    "#\n",
    "# batch_size = 16\n",
    "# EPISODES = 2000\n",
    "# for e in range(EPISODES):\n",
    "#     summary = []\n",
    "#     pbar = tqdm(range(100))\n",
    "#     for _ in pbar:\n",
    "#         total_reward = 0\n",
    "#         env_state = np.array(env.reset())\n",
    "#\n",
    "#         state = tf.convert_to_tensor(env_state[np.newaxis, :], dtype=tf.float32)\n",
    "#\n",
    "#         for time in range(1000):\n",
    "#             action = agent.get_action(state)\n",
    "#             next_state_env, reward, done, _ = env.step(action)\n",
    "#             total_reward += reward\n",
    "#             next_state = tf.convert_to_tensor(np.array(next_state_env)[np.newaxis, :], dtype=tf.float32)\n",
    "#             agent.remember(state, action, reward, next_state, done)\n",
    "#             state = next_state\n",
    "#             if done:\n",
    "#                 break\n",
    "#\n",
    "#         if len(agent.memory) > batch_size:\n",
    "#             agent.replay(batch_size)\n",
    "#\n",
    "#         summary.append(total_reward)\n",
    "#         pbar.set_description(f'training epoch')\n",
    "#\n",
    "#     agent.update_epsilon_value()\n",
    "#     print(\"epoch #{}\\tmean reward = {:.3f}\\tepsilon = {:.3f}\".format(e, np.mean(summary), agent.epsilon))\n",
    "#     agent.model.save_weights('test')\n",
    "#     if np.mean(summary) > 0.9:\n",
    "#         print (\"You Win!\")\n",
    "#         break"
   ]
  },
  {
   "cell_type": "markdown",
   "metadata": {},
   "source": [
    "Czas przygotować model sieci, która będzie się uczyła działania w środowisku [*CartPool*](https://gym.openai.com/envs/CartPole-v0/):"
   ]
  },
  {
   "cell_type": "code",
   "execution_count": 10,
   "outputs": [],
   "source": [
    "class DQNAgent:\n",
    "    def __init__(self, action_size, learning_rate, model):\n",
    "        self.action_size = action_size\n",
    "        self.memory = deque(maxlen=2000)\n",
    "        self.gamma = 0.99    # discount rate\n",
    "        self.epsilon = 1.0  # exploration rate\n",
    "        self.epsilon_min = 0.01\n",
    "        self.epsilon_decay_diff = 0.03\n",
    "        # self.epsilon_decay_dot = 0.999\n",
    "        self.learning_rate = learning_rate\n",
    "        self.model = model\n",
    "\n",
    "    def remember(self, state, action, reward, next_state, done):\n",
    "        #Function adds information to the memory about last action and its results\n",
    "        self.memory.append((state, action, reward, next_state, done))\n",
    "\n",
    "    def get_action(self, state):\n",
    "        \"\"\"\n",
    "        Compute the action to take in the current state, including exploration.\n",
    "        With probability self.epsilon, we should take a random action.\n",
    "            otherwise - the best policy action (self.get_best_action).\n",
    "\n",
    "        Note: To pick randomly from a list, use random.choice(list).\n",
    "              To pick True or False with a given probablity, generate uniform number in [0, 1]\n",
    "              and compare it with your probability\n",
    "        \"\"\"\n",
    "\n",
    "        if np.random.random() < self.epsilon:\n",
    "            return np.random.choice(action_size)\n",
    "\n",
    "        return self.get_best_action(state)\n",
    "\n",
    "    def get_best_action(self, state):\n",
    "        \"\"\"\n",
    "        Compute the best action to take in a state.\n",
    "        \"\"\"\n",
    "\n",
    "        prediction = self.model(state, training=False)\n",
    "        best_action = tf.argmax(prediction[0]).numpy()\n",
    "        return best_action\n",
    "\n",
    "    def replay(self, batch_size):\n",
    "        \"\"\"\n",
    "        Function learn network using randomly selected actions from the memory.\n",
    "        First calculates Q value for the next state and choose action with the biggest value.\n",
    "        Target value is calculated according to:\n",
    "                Q(s,a) := (r + gamma * max_a(Q(s', a)))\n",
    "        except the situation when the next action is the last action, in such case Q(s, a) := r.\n",
    "        In order to change only those weights responsible for chosing given action, the rest values should be those\n",
    "        returned by the network for state state.\n",
    "        The network should be trained on batch_size samples.\n",
    "        \"\"\"\n",
    "\n",
    "        sample_idx = np.random.choice(len(self.memory), size=batch_size, replace=False)\n",
    "        batch_list = [self.memory[idx] for idx in sample_idx]\n",
    "\n",
    "        for sample in batch_list:\n",
    "            state, action, reward, next_state, done = sample\n",
    "\n",
    "            if done:\n",
    "                target = reward\n",
    "            else:\n",
    "                target = reward + self.gamma * np.amax(self.model(next_state, training=False).numpy())\n",
    "\n",
    "            prediction = self.model(state, training=False).numpy()\n",
    "            prediction[0][action] = target\n",
    "            self.model(state, prediction)\n",
    "\n",
    "    def update_epsilon_value(self):\n",
    "        if self.epsilon > self.epsilon_decay_diff:\n",
    "            self.epsilon -= self.epsilon_decay_diff\n",
    "        else:\n",
    "            self.epsilon = 0.001"
   ],
   "metadata": {
    "collapsed": false
   }
  },
  {
   "cell_type": "code",
   "execution_count": 11,
   "metadata": {},
   "outputs": [
    {
     "name": "stdout",
     "output_type": "stream",
     "text": [
      "Model: \"sequential\"\n",
      "_________________________________________________________________\n",
      " Layer (type)                Output Shape              Param #   \n",
      "=================================================================\n",
      " dense (Dense)               (None, 32)                160       \n",
      "                                                                 \n",
      " dense_1 (Dense)             (None, 64)                2112      \n",
      "                                                                 \n",
      " dense_2 (Dense)             (None, 2)                 130       \n",
      "                                                                 \n",
      "=================================================================\n",
      "Total params: 2,402\n",
      "Trainable params: 2,402\n",
      "Non-trainable params: 0\n",
      "_________________________________________________________________\n"
     ]
    }
   ],
   "source": [
    "env = gym.make(\"CartPole-v1\").env\n",
    "state_size = env.observation_space.shape[0]\n",
    "action_size = env.action_space.n\n",
    "learning_rate = 0.001\n",
    "\n",
    "model = tf.keras.Sequential()\n",
    "model.add(tf.keras.layers.Dense(32, input_shape=(state_size,), activation='relu'))\n",
    "model.add(tf.keras.layers.Dense(64, activation='relu'))\n",
    "model.add(tf.keras.layers.Dense(action_size, activation='linear'))\n",
    "model.compile(loss=tf.keras.losses.mse, optimizer=tf.keras.optimizers.Adam(learning_rate=learning_rate), metrics=['accuracy'])#, run_eagerly=True)\n",
    "model.summary()"
   ]
  },
  {
   "cell_type": "markdown",
   "metadata": {},
   "source": [
    "Czas nauczyć agenta gry w środowisku *CartPool*:\n",
    "* 1 pkt < 10 epok,\n",
    "* 0.5 pkt < 20 epok,\n",
    "* 0.25 pkt - w pozostałych przypadkach."
   ]
  },
  {
   "cell_type": "code",
   "execution_count": 12,
   "metadata": {},
   "outputs": [
    {
     "name": "stderr",
     "output_type": "stream",
     "text": [
      "  0%|          | 0/100 [00:00<?, ?it/s]E:\\guzw\\venv\\lib\\site-packages\\gym\\utils\\passive_env_checker.py:233: DeprecationWarning: `np.bool8` is a deprecated alias for `np.bool_`.  (Deprecated NumPy 1.24)\n",
      "  if not isinstance(terminated, (bool, np.bool8)):\n",
      "training epoch: 100%|██████████| 100/100 [00:32<00:00,  3.09it/s]\n"
     ]
    },
    {
     "name": "stdout",
     "output_type": "stream",
     "text": [
      "epoch #0\tmean reward = 99.980\tepsilon = 0.445\n"
     ]
    },
    {
     "name": "stderr",
     "output_type": "stream",
     "text": [
      "training epoch: 100%|██████████| 100/100 [00:34<00:00,  2.91it/s]\n"
     ]
    },
    {
     "name": "stdout",
     "output_type": "stream",
     "text": [
      "epoch #1\tmean reward = 116.710\tepsilon = 0.390\n"
     ]
    },
    {
     "name": "stderr",
     "output_type": "stream",
     "text": [
      "training epoch: 100%|██████████| 100/100 [00:38<00:00,  2.58it/s]\n"
     ]
    },
    {
     "name": "stdout",
     "output_type": "stream",
     "text": [
      "epoch #2\tmean reward = 130.460\tepsilon = 0.335\n"
     ]
    },
    {
     "name": "stderr",
     "output_type": "stream",
     "text": [
      "training epoch: 100%|██████████| 100/100 [00:42<00:00,  2.36it/s]\n"
     ]
    },
    {
     "name": "stdout",
     "output_type": "stream",
     "text": [
      "epoch #3\tmean reward = 156.520\tepsilon = 0.280\n"
     ]
    },
    {
     "name": "stderr",
     "output_type": "stream",
     "text": [
      "training epoch: 100%|██████████| 100/100 [00:47<00:00,  2.12it/s]\n"
     ]
    },
    {
     "name": "stdout",
     "output_type": "stream",
     "text": [
      "epoch #4\tmean reward = 194.830\tepsilon = 0.225\n"
     ]
    },
    {
     "name": "stderr",
     "output_type": "stream",
     "text": [
      "training epoch: 100%|██████████| 100/100 [00:52<00:00,  1.92it/s]"
     ]
    },
    {
     "name": "stdout",
     "output_type": "stream",
     "text": [
      "epoch #5\tmean reward = 214.000\tepsilon = 0.170\n",
      "You Win!\n"
     ]
    },
    {
     "name": "stderr",
     "output_type": "stream",
     "text": [
      "\n"
     ]
    }
   ],
   "source": [
    "agent = DQNAgent(action_size, learning_rate, model)\n",
    "\n",
    "agent.epsilon = 0.5\n",
    "agent.epsilon_decay_diff = 0.055\n",
    "batch_size = 64\n",
    "EPISODES = 1000\n",
    "for e in range(EPISODES):\n",
    "    summary = []\n",
    "    pbar = tqdm(range(100))\n",
    "    for _ in pbar:\n",
    "        total_reward = 0\n",
    "        env_state = env.reset()[0]\n",
    "        state = tf.convert_to_tensor(env_state[np.newaxis, :], dtype=tf.float32)\n",
    "\n",
    "        for time in range(1000):\n",
    "            action = agent.get_action(state)\n",
    "            next_state_env, reward, done, _, _ = env.step(action)\n",
    "            total_reward += reward\n",
    "            next_state = tf.convert_to_tensor(next_state_env[np.newaxis, :], dtype=tf.float32)\n",
    "            agent.remember(state, action, reward, next_state, done)\n",
    "            state = next_state\n",
    "            if done:\n",
    "                break\n",
    "\n",
    "        if len(agent.memory) > batch_size:\n",
    "            agent.replay(batch_size)\n",
    "\n",
    "        summary.append(total_reward)\n",
    "        pbar.set_description(f'training epoch')\n",
    "\n",
    "    agent.update_epsilon_value()\n",
    "    print(\"epoch #{}\\tmean reward = {:.3f}\\tepsilon = {:.3f}\".format(e, np.mean(summary), agent.epsilon))\n",
    "    agent.model.save_weights('test')\n",
    "    if np.mean(summary) > 195:\n",
    "        print (\"You Win!\")\n",
    "        break"
   ]
  },
  {
   "cell_type": "code",
   "execution_count": 12,
   "outputs": [],
   "source": [],
   "metadata": {
    "collapsed": false
   }
  }
 ],
 "metadata": {
  "kernelspec": {
   "display_name": "Python 3",
   "language": "python",
   "name": "python3"
  },
  "language_info": {
   "codemirror_mode": {
    "name": "ipython",
    "version": 3
   },
   "file_extension": ".py",
   "mimetype": "text/x-python",
   "name": "python",
   "nbconvert_exporter": "python",
   "pygments_lexer": "ipython3",
   "version": "3.7.5"
  }
 },
 "nbformat": 4,
 "nbformat_minor": 4
}
